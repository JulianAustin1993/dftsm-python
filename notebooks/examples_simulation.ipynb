{
 "cells": [
  {
   "cell_type": "code",
   "execution_count": 1,
   "metadata": {},
   "outputs": [],
   "source": [
    "import sys, os\n",
    "sys.path.append(os.path.join(os.path.dirname('.'), '..','src'))\n",
    "\n",
    "import numpy as np\n",
    "from basis import Bspline\n",
    "from forecast import forecast\n",
    "from fda import fpca, mafr\n",
    "from utils import GP, Matern, whiteNoise, structNoise\n",
    "import seaborn as sns\n",
    "import matplotlib.pyplot as plt\n",
    "\n",
    "np.random.seed(4)"
   ]
  },
  {
   "cell_type": "markdown",
   "metadata": {},
   "source": [
    "# Simulation Example Figures\n",
    "\n",
    "This notebook is for running through example forecasting using the simulated data sets generated from [here]. The figures produced within are used in the presentation of this work. \n",
    "\n",
    "[here]: ./data_generation.ipynb\n",
    "\n",
    "# Output\n",
    "We output all figure to:\n",
    "\n",
    "`../pres/fig/simulation/`"
   ]
  },
  {
   "cell_type": "code",
   "execution_count": 2,
   "metadata": {},
   "outputs": [],
   "source": [
    "OUTPUT = '../pres/fig/simulation'\n",
    "if not os.path.exists(OUTPUT):\n",
    "    os.makedirs(OUTPUT)"
   ]
  },
  {
   "cell_type": "markdown",
   "metadata": {},
   "source": [
    "We begin by looking at the decomposition of the simulated surface data set under the various noise types. "
   ]
  },
  {
   "cell_type": "code",
   "execution_count": 3,
   "metadata": {},
   "outputs": [],
   "source": [
    "## Domain parameters\n",
    "S1, S2, T = 128, 128, 128\n",
    "t = np.linspace(0,1,T)\n",
    "\n",
    "## Basis system \n",
    "bs = Bspline((-1,1), 25, 4)\n",
    "B = np.kron(bs(np.linspace(-1,1,S1)), bs(np.linspace(-1,1,S1)))\n",
    "J = np.kron(np.eye(bs.K), bs.penalty(0)) + np.kron(bs.penalty(0), np.eye(bs.K))\n",
    "\n",
    "## Penalties for regularisation and mafr. \n",
    "NDERIV = 2\n",
    "P = np.kron(np.eye(bs.K), bs.penalty(NDERIV)) + np.kron(bs.penalty(NDERIV), np.eye(bs.K))\n",
    "LOG_LAMBDA = -5.0\n",
    "\n",
    "## Step sizes, training data set, and components to use.\n",
    "STEPS = 25\n",
    "N_INIT = 90\n",
    "N_COMP = 5\n",
    "\n",
    "## Constant simulated data (nsimulations X datasets)\n",
    "SIM_PATH = '../data/simulated.npz'\n",
    "LN_PATH = '../data/simulated_ln.npz'\n",
    "HN_PATH = '../data/simulated_hn.npz'\n",
    "SN_PATH = '../data/simulated_sn.npz'\n",
    "data = np.load(SIM_PATH)\n",
    "C_arr = data['C']\n",
    "Y = np.einsum(\"ij, kjl->kil\", data['PHI'], C_arr).swapaxes(-1,1)[0]\n",
    "\n",
    "NSIM = len(C_arr)"
   ]
  },
  {
   "cell_type": "markdown",
   "metadata": {},
   "source": [
    "The following codeblock runs our various models over the various noise types and saves intermediate results in the various dictionaries for us to plot. "
   ]
  },
  {
   "cell_type": "code",
   "execution_count": 4,
   "metadata": {},
   "outputs": [],
   "source": [
    "zetas_dict={}\n",
    "scores_dict={}\n",
    "mean_scores_dict = {}\n",
    "var_scores_dict = {}\n",
    "recon_dict = {}\n",
    "error_dict = {}\n",
    "Y_e_dict = {}\n",
    "\n",
    "noise_labels = ['ln', 'hn', 'sn']\n",
    "models = ['fpca', 'mafr','reg-fpca','reg-mafr']\n",
    "for label, path in zip(noise_labels, [LN_PATH, HN_PATH, SN_PATH]):\n",
    "    noise = np.load(path)['sim'][0]\n",
    "    Y_e = Y + noise\n",
    "    Y_e_dict[label] = Y_e\n",
    "    for model in models:\n",
    "        ll = LOG_LAMBDA if model.startswith('reg') else -14.0\n",
    "        mafr_ind = True if 'mafr' in model else False\n",
    "        Y_train = Y_e[:N_INIT]\n",
    "        x_ob = t[:N_INIT]\n",
    "        x_new = t[N_INIT:(N_INIT+STEPS)]\n",
    "        Cbar, zeta, scores, w = fpca(Y_train.T, B, P, ll, NDERIV, J, N_COMP)\n",
    "        if mafr_ind:\n",
    "            zeta, scores, U = mafr(zeta, scores, P)\n",
    "        zetas_dict[model+'_'+label] = zeta\n",
    "        scores_dict[model+'_'+label] = scores\n",
    "        mu_fors = []\n",
    "        V_fors = []\n",
    "        for score in scores.T:\n",
    "            gp = GP(Matern(nu=1.5, rho=1.0, sigma=1.0))\n",
    "            gp.fit(x_ob, score.T, bounds=[(-6,2), (-6,2), (-6, 2)], n_init=100)\n",
    "            mu_for, V_for = gp.posterior(x_new)\n",
    "            mu_fors.append(mu_for)\n",
    "            V_fors.append(np.diag(V_for))\n",
    "        mean_scores_dict[model+'_'+label]=np.array(mu_fors)\n",
    "        var_scores_dict[model+'_'+label]=np.array(V_fors)\n",
    "        recon_dict[model+'_'+label] = np.matmul(np.matmul(B, zeta), mu_fors) + np.matmul(B, Cbar)[:, np.newaxis]"
   ]
  },
  {
   "cell_type": "markdown",
   "metadata": {},
   "source": [
    "### Unobserved data set\n",
    "\n",
    "The following plot gives a temporal overview of our unobserved data. "
   ]
  },
  {
   "cell_type": "code",
   "execution_count": 13,
   "metadata": {},
   "outputs": [],
   "source": [
    "sns.set_style(\"whitegrid\")\n",
    "fig, axs =plt.subplots(3,3,figsize=(8,5), dpi=320)\n",
    "N = Y.shape[0]//len(axs.flatten())\n",
    "for i, ax in enumerate(axs.flatten()):\n",
    "    sns.heatmap(Y[i*N].reshape((S1,S2)), ax=ax, cmap='icefire', xticklabels=False, yticklabels=False, vmin=-3, vmax=3)\n",
    "    ax.set_title(\"t: {:.2f}\".format(t[((i+1)*N) -1]), fontsize=10)\n",
    "fig.savefig(os.path.join(OUTPUT, 'sim_unob.png'), format='png')\n",
    "plt.close()\n",
    "\n",
    "sns.set_style(\"whitegrid\")\n",
    "fig, axs =plt.subplots(1,3,figsize=(8,5), dpi=320)\n",
    "cols = [r'$\\phi_1$', r'$\\phi_2$', r'$\\phi_3$']\n",
    "for i, (ax, col) in enumerate(zip(axs.flatten(), cols)):\n",
    "    sns.heatmap(data['PHI'][:, i].reshape((S1,S2)), ax=ax, cmap='icefire', xticklabels=False, yticklabels=False)\n",
    "    ax.set_title(col)\n",
    "plt.tight_layout()\n",
    "fig.savefig(os.path.join(OUTPUT, 'sim_unob_eig.png'), format='png')\n",
    "plt.close()\n",
    "\n",
    "sns.set_style(\"whitegrid\")\n",
    "fig, axs =plt.subplots(1,3,figsize=(8,5), dpi=320)\n",
    "cols = [r'$\\zeta_1$', r'$\\zeta_2$', r'$\\zeta_3$']\n",
    "for i, (ax, col) in enumerate(zip(axs.flatten(), cols)):\n",
    "    sns.lineplot(x=t, y=C_arr[0][i], ax=ax)\n",
    "    ax.set_title(col)\n",
    "plt.tight_layout()\n",
    "fig.savefig(os.path.join(OUTPUT, 'sim_unob_scores.png'), format='png')\n",
    "plt.close()\n"
   ]
  },
  {
   "cell_type": "markdown",
   "metadata": {},
   "source": [
    "### Example of noise\n",
    "\n",
    "The following figures are created to showcase the different noise for the surface displacement data."
   ]
  },
  {
   "cell_type": "code",
   "execution_count": null,
   "metadata": {},
   "outputs": [],
   "source": [
    "sns.set_style(\"whitegrid\")\n",
    "for ex, label in zip([Y[N_INIT-1], *[Y_e_dict[key][-1] for key in Y_e_dict.keys()]],['actual', *[k for k in Y_e_dict.keys()]]):\n",
    "    fig, axs = plt.subplots(1,1,figsize=(8,5), dpi=320)\n",
    "    axs = sns.heatmap(ex.reshape((S1,S2)), ax=axs, cmap='icefire', xticklabels=False, yticklabels=False)\n",
    "    fig.savefig(os.path.join(OUTPUT,'sim_'+label+'.png'))\n",
    "    plt.close()\n",
    "\n"
   ]
  },
  {
   "cell_type": "markdown",
   "metadata": {},
   "source": [
    "### Eigenfunctions\n",
    "\n",
    "The following figures are the estimated first eigenfunction for each noise type. "
   ]
  },
  {
   "cell_type": "code",
   "execution_count": 16,
   "metadata": {},
   "outputs": [],
   "source": [
    "sns.set_style(\"whitegrid\")\n",
    "cols = [r'$\\phi_1$', r'$\\phi_2$', r'$\\phi_3$', r'$\\phi_4$', r'$\\phi_5$']\n",
    "for label in noise_labels:\n",
    "    fig, axs = plt.subplots(4,5,figsize=(8,5), dpi=320)\n",
    "    for ax_row, model in zip(axs, models):\n",
    "        ex = np.matmul(B, zetas_dict[model+'_'+label])\n",
    "        for i, ax in enumerate(ax_row):\n",
    "            ax = sns.heatmap(ex[:,i].reshape(S1,S2), ax=ax, cmap='icefire', xticklabels=False, yticklabels=False, vmin=-1, vmax=1)\n",
    "    for ax, row in zip(axs[:,0], models):\n",
    "        ax.set_ylabel(row, rotation=90, size='large')\n",
    "    for ax, col in zip(axs[0,:], cols):\n",
    "        ax.set_title(col)\n",
    "    plt.tight_layout()\n",
    "    fig.savefig(os.path.join(OUTPUT,'sim_eigen_'+label+'.png'))\n",
    "    plt.close()\n"
   ]
  },
  {
   "cell_type": "markdown",
   "metadata": {},
   "source": [
    "### Scores and forecasted scores\n",
    "\n",
    "The following figures plot the scores as functions over time with their associared forecasts from the methodology described in [here].\n",
    "\n",
    "[here]: ./surf_disp.ipynb"
   ]
  },
  {
   "cell_type": "code",
   "execution_count": 15,
   "metadata": {},
   "outputs": [],
   "source": [
    "sns.set_style(\"whitegrid\")\n",
    "cols = [r'$\\zeta_1$', r'$\\zeta_2$', r'$\\zeta_3$', r'$\\zeta_4$', r'$\\zeta_5$']\n",
    "c = ['blue', 'green', 'purple','red', 'orange']\n",
    "for label in noise_labels:\n",
    "    fig, axs = plt.subplots(4,5,figsize=(8,5), dpi=320)\n",
    "    for ax_row, model in zip(axs, models):\n",
    "        sc = scores_dict[model+'_'+label]\n",
    "        scf = mean_scores_dict[model+'_'+label]\n",
    "        scv = var_scores_dict[model+'_'+label]\n",
    "        for i, ax in enumerate(ax_row):\n",
    "            sns.lineplot(x=x_ob, y=sc[:,i], ax=ax, color=c[i])\n",
    "            sns.lineplot(x=x_new, y= scf[i], ax=ax, color=c[i])\n",
    "            ax.fill_between(x=x_new, y1=scf[i]-1.96*np.sqrt(scv[i]), y2=scf[i]+1.96*np.sqrt(scv[i]), alpha=0.1, color=c[i])\n",
    "    for ax, row in zip(axs[:,0], models):\n",
    "        ax.set_ylabel(row, rotation=90, size='large')\n",
    "    for ax, col in zip(axs[0,:], cols):\n",
    "        ax.set_title(col)\n",
    "    plt.tight_layout()\n",
    "    fig.savefig(os.path.join(OUTPUT,'sim_scores_'+label+'.png'))\n",
    "    plt.close()"
   ]
  },
  {
   "cell_type": "markdown",
   "metadata": {},
   "source": [
    "### Reconstructions\n",
    "\n",
    "The following is an example reconstruction for `EXAMPLE` step ahead forecast. "
   ]
  },
  {
   "cell_type": "code",
   "execution_count": null,
   "metadata": {},
   "outputs": [],
   "source": [
    "sns.set_style(\"whitegrid\")\n",
    "EXAMPLE = 2\n",
    "for label in noise_labels:\n",
    "    for model in ['actual', *models]:\n",
    "        fig, axs = plt.subplots(1,1,figsize=(8,5), dpi=320)\n",
    "        if model == 'actual':\n",
    "            recon = Y[N_INIT + EXAMPLE]\n",
    "        else:\n",
    "            recon = recon_dict[model+'_'+label][:, EXAMPLE]\n",
    "        axs = sns.heatmap(recon.reshape(S1,S2), ax=axs, cmap='icefire', xticklabels=False, yticklabels=False, vmin=-3, vmax=3)\n",
    "        fig.savefig(os.path.join(OUTPUT,'sim_recon_'+model+'_'+label+'.png'))\n",
    "        plt.close()"
   ]
  },
  {
   "cell_type": "markdown",
   "metadata": {},
   "source": [
    "### Errors\n",
    "\n",
    "The following is an example reconstruction error for `EXAMPLE` step ahead forecast. "
   ]
  },
  {
   "cell_type": "code",
   "execution_count": null,
   "metadata": {},
   "outputs": [],
   "source": [
    "sns.set_style(\"whitegrid\")\n",
    "EXAMPLE = 2\n",
    "for label in noise_labels:\n",
    "    for model in models:\n",
    "        fig, axs = plt.subplots(1,1,figsize=(8,5), dpi=320)\n",
    "        recon = recon_dict[model+'_'+label][:, EXAMPLE]\n",
    "        error = Y[N_INIT+EXAMPLE]-recon\n",
    "        axs = sns.heatmap(error.reshape(S1,S2), ax=axs, cmap='icefire', xticklabels=False, yticklabels=False, vmin=-3, vmax = 3)\n",
    "        plt.tight_layout()\n",
    "        fig.savefig(os.path.join(OUTPUT,'sim_error_'+model+'_'+label+'.png'))\n",
    "        plt.close()"
   ]
  }
 ],
 "metadata": {
  "kernelspec": {
   "display_name": "dftsm",
   "language": "python",
   "name": "dftsm"
  },
  "language_info": {
   "codemirror_mode": {
    "name": "ipython",
    "version": 3
   },
   "file_extension": ".py",
   "mimetype": "text/x-python",
   "name": "python",
   "nbconvert_exporter": "python",
   "pygments_lexer": "ipython3",
   "version": "3.8.6"
  }
 },
 "nbformat": 4,
 "nbformat_minor": 4
}
